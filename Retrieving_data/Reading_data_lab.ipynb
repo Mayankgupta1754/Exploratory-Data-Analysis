{
  "nbformat": 4,
  "nbformat_minor": 0,
  "metadata": {
    "colab": {
      "provenance": [],
      "authorship_tag": "ABX9TyMIQcCx22DBc53h2/3oFZlL",
      "include_colab_link": true
    },
    "kernelspec": {
      "name": "python3",
      "display_name": "Python 3"
    },
    "language_info": {
      "name": "python"
    }
  },
  "cells": [
    {
      "cell_type": "markdown",
      "metadata": {
        "id": "view-in-github",
        "colab_type": "text"
      },
      "source": [
        "<a href=\"https://colab.research.google.com/github/Mayankgupta1754/Exploratory-Data-Analysis/blob/main/Retrieving_data/Reading_data_lab.ipynb\" target=\"_parent\"><img src=\"https://colab.research.google.com/assets/colab-badge.svg\" alt=\"Open In Colab\"/></a>"
      ]
    },
    {
      "cell_type": "code",
      "execution_count": 1,
      "metadata": {
        "id": "uHwZ-vn3g2Mu"
      },
      "outputs": [],
      "source": [
        "import sqlite3 as sq3\n",
        "import pandas.io.sql as pds\n",
        "import pandas as pd"
      ]
    },
    {
      "cell_type": "code",
      "source": [
        "!wget -P data  https://cf-courses-data.s3.us.cloud-object-storage.appdomain.cloud/IBM-ML0232EN-SkillsNetwork/asset/baseball.db"
      ],
      "metadata": {
        "colab": {
          "base_uri": "https://localhost:8080/"
        },
        "id": "epILriTEhDse",
        "outputId": "2441cccb-127e-4df6-ec7d-dca8b1df2095"
      },
      "execution_count": 2,
      "outputs": [
        {
          "output_type": "stream",
          "name": "stdout",
          "text": [
            "--2024-09-26 18:08:03--  https://cf-courses-data.s3.us.cloud-object-storage.appdomain.cloud/IBM-ML0232EN-SkillsNetwork/asset/baseball.db\n",
            "Resolving cf-courses-data.s3.us.cloud-object-storage.appdomain.cloud (cf-courses-data.s3.us.cloud-object-storage.appdomain.cloud)... 169.63.118.104\n",
            "Connecting to cf-courses-data.s3.us.cloud-object-storage.appdomain.cloud (cf-courses-data.s3.us.cloud-object-storage.appdomain.cloud)|169.63.118.104|:443... connected.\n",
            "HTTP request sent, awaiting response... 200 OK\n",
            "Length: 7626752 (7.3M) [binary/octet-stream]\n",
            "Saving to: ‘data/baseball.db’\n",
            "\n",
            "baseball.db         100%[===================>]   7.27M  10.3MB/s    in 0.7s    \n",
            "\n",
            "2024-09-26 18:08:04 (10.3 MB/s) - ‘data/baseball.db’ saved [7626752/7626752]\n",
            "\n"
          ]
        }
      ]
    },
    {
      "cell_type": "code",
      "source": [
        "con=sq3.Connection('data/baseball.db')"
      ],
      "metadata": {
        "id": "eZKGDaAYhL_P"
      },
      "execution_count": 3,
      "outputs": []
    },
    {
      "cell_type": "code",
      "source": [
        "allstar_observations=pd.read_sql('SELECT * FROM allstarfull',con)"
      ],
      "metadata": {
        "id": "AwBsLdz-ha0q"
      },
      "execution_count": 5,
      "outputs": []
    },
    {
      "cell_type": "code",
      "source": [
        "print(allstar_observations)"
      ],
      "metadata": {
        "colab": {
          "base_uri": "https://localhost:8080/"
        },
        "id": "0wcLHJm1hyDG",
        "outputId": "2e9b691f-765e-4b53-8ce2-e9982581967f"
      },
      "execution_count": 6,
      "outputs": [
        {
          "output_type": "stream",
          "name": "stdout",
          "text": [
            "      index   playerID  yearID  gameNum        gameID teamID lgID   GP  \\\n",
            "0         0  gomezle01    1933        0  ALS193307060    NYA   AL  1.0   \n",
            "1         1  ferreri01    1933        0  ALS193307060    BOS   AL  1.0   \n",
            "2         2  gehrilo01    1933        0  ALS193307060    NYA   AL  1.0   \n",
            "3         3  gehrich01    1933        0  ALS193307060    DET   AL  1.0   \n",
            "4         4  dykesji01    1933        0  ALS193307060    CHA   AL  1.0   \n",
            "...     ...        ...     ...      ...           ...    ...  ...  ...   \n",
            "5143   5143  seageco01    2016        0  ALS201607120    LAN   NL  1.0   \n",
            "5144   5144  strasst01    2016        0  ALS201607120    WAS   NL  0.0   \n",
            "5145   5145  syndeno01    2016        0  ALS201607120    NYN   NL  0.0   \n",
            "5146   5146  teherju01    2016        0  ALS201607120    ATL   NL  1.0   \n",
            "5147   5147  zobribe01    2016        0  ALS201607120    CHN   NL  1.0   \n",
            "\n",
            "      startingPos  \n",
            "0             1.0  \n",
            "1             2.0  \n",
            "2             3.0  \n",
            "3             4.0  \n",
            "4             5.0  \n",
            "...           ...  \n",
            "5143          NaN  \n",
            "5144          NaN  \n",
            "5145          NaN  \n",
            "5146          NaN  \n",
            "5147          4.0  \n",
            "\n",
            "[5148 rows x 9 columns]\n"
          ]
        }
      ]
    },
    {
      "cell_type": "code",
      "source": [
        "all_tables = pd.read_sql('SELECT * FROM sqlite_master', con)\n",
        "print(all_tables)"
      ],
      "metadata": {
        "colab": {
          "base_uri": "https://localhost:8080/"
        },
        "id": "cLcMUzoAh9ll",
        "outputId": "1e4aab4c-9e76-4e0d-88d4-045ed17bbb1a"
      },
      "execution_count": 7,
      "outputs": [
        {
          "output_type": "stream",
          "name": "stdout",
          "text": [
            "    type                  name     tbl_name  rootpage  \\\n",
            "0  table           allstarfull  allstarfull         2   \n",
            "1  index  ix_allstarfull_index  allstarfull         3   \n",
            "2  table               schools      schools        26   \n",
            "3  index      ix_schools_index      schools        31   \n",
            "4  table               batting      batting        99   \n",
            "5  index      ix_batting_index      batting       100   \n",
            "\n",
            "                                                 sql  \n",
            "0  CREATE TABLE \"allstarfull\" (\\n\"index\" INTEGER,...  \n",
            "1  CREATE INDEX \"ix_allstarfull_index\"ON \"allstar...  \n",
            "2  CREATE TABLE \"schools\" (\\n\"index\" INTEGER,\\n  ...  \n",
            "3  CREATE INDEX \"ix_schools_index\"ON \"schools\" (\"...  \n",
            "4  CREATE TABLE \"batting\" (\\n\"index\" INTEGER,\\n  ...  \n",
            "5  CREATE INDEX \"ix_batting_index\"ON \"batting\" (\"...  \n"
          ]
        }
      ]
    },
    {
      "cell_type": "code",
      "source": [
        "best=pd.read_sql(\"\"\"\n",
        "SELECT playerID, sum(GP) AS num_games_played, AVG(startingPos) AS avg_starting_position\n",
        "    FROM allstarfull\n",
        "    GROUP BY playerID\n",
        "    ORDER BY num_games_played DESC, avg_starting_position ASC\n",
        "    LIMIT 3\n",
        "\"\"\", con)\n",
        "print(best.head())"
      ],
      "metadata": {
        "colab": {
          "base_uri": "https://localhost:8080/"
        },
        "id": "SCRN4X0diGy9",
        "outputId": "0a45e88a-9260-40a8-e125-3dc12b4ff216"
      },
      "execution_count": 8,
      "outputs": [
        {
          "output_type": "stream",
          "name": "stdout",
          "text": [
            "    playerID  num_games_played  avg_starting_position\n",
            "0  musiast01              24.0               6.357143\n",
            "1   mayswi01              24.0               8.000000\n",
            "2  aaronha01              24.0               8.470588\n"
          ]
        }
      ]
    }
  ]
}